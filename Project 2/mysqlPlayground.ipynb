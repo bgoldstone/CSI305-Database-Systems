{
 "cells": [
  {
   "cell_type": "code",
   "execution_count": 10,
   "metadata": {},
   "outputs": [],
   "source": [
    "# SHOW FULL TABLES FROM google_play_store WHERE Table_Type != 'VIEW'\n",
    "import mysql.connector\n",
    "db = mysql.connector.connect(\n",
    "        host=\"localhost\",\n",
    "        port=3306,\n",
    "        username=\"root\",\n",
    "        password=\"\",\n",
    "        database=\"sys\"\n",
    "    )\n",
    "cursor = db.cursor()"
   ]
  },
  {
   "cell_type": "code",
   "execution_count": 4,
   "metadata": {},
   "outputs": [],
   "source": [
    "import os\n",
    "def reset_db():\n",
    "    os.system('mysql.exe  --protocol=tcp --host=localhost --user=root --port=3306 --default-character-set=utf8 --comments  < \"googleplaystore.sql\"')"
   ]
  },
  {
   "cell_type": "code",
   "execution_count": 3,
   "metadata": {},
   "outputs": [
    {
     "data": {
      "text/plain": [
       "['Art & Design', 'Pretend Play']"
      ]
     },
     "execution_count": 3,
     "metadata": {},
     "output_type": "execute_result"
    }
   ],
   "source": [
    "import pandas as pd\n",
    "df = pd.read_csv('G:\\My Drive\\Fall 2022\\Database Systems\\GooglePlayStoreData\\original\\googleplaystore.csv', sep=\",\")\n",
    "df['Genres'][1].split(';')"
   ]
  },
  {
   "cell_type": "code",
   "execution_count": 21,
   "metadata": {},
   "outputs": [],
   "source": [
    "with open('G:\\My Drive\\Fall 2022\\Database Systems\\GooglePlayStoreData\\Genres.csv','w') as file:\n",
    "    for index,genre in enumerate(df['Genres']):\n",
    "        if ';' in genre:\n",
    "            genres = genre.split(\";\")\n",
    "        else:\n",
    "            genres = [genre]\n",
    "        for writeGenre in genres:\n",
    "            file.write(f'{index+1},{writeGenre}\\n')"
   ]
  },
  {
   "cell_type": "code",
   "execution_count": 6,
   "metadata": {},
   "outputs": [
    {
     "data": {
      "text/plain": [
       "array(['ART_AND_DESIGN', 'AUTO_AND_VEHICLES', 'BEAUTY',\n",
       "       'BOOKS_AND_REFERENCE', 'BUSINESS', 'COMICS', 'COMMUNICATION',\n",
       "       'DATING', 'EDUCATION', 'ENTERTAINMENT', 'EVENTS', 'FINANCE',\n",
       "       'FOOD_AND_DRINK', 'HEALTH_AND_FITNESS', 'HOUSE_AND_HOME',\n",
       "       'LIBRARIES_AND_DEMO', 'LIFESTYLE', 'GAME', 'FAMILY', 'MEDICAL',\n",
       "       'SOCIAL', 'SHOPPING', 'PHOTOGRAPHY', 'SPORTS', 'TRAVEL_AND_LOCAL',\n",
       "       'TOOLS', 'PERSONALIZATION', 'PRODUCTIVITY', 'PARENTING', 'WEATHER',\n",
       "       'VIDEO_PLAYERS', 'NEWS_AND_MAGAZINES', 'MAPS_AND_NAVIGATION',\n",
       "       '1.9'], dtype=object)"
      ]
     },
     "execution_count": 6,
     "metadata": {},
     "output_type": "execute_result"
    }
   ],
   "source": [
    "df['Category'].unique()"
   ]
  },
  {
   "cell_type": "code",
   "execution_count": 51,
   "metadata": {},
   "outputs": [],
   "source": [
    "import datetime\n",
    "cursor.execute(\"SELECT id,last_updated FROM google_play_store.apps\")\n",
    "dates = [date[0:2] for date in cursor.fetchall()]\n",
    "newDates = []\n",
    "dates[0][1]\n",
    "cursor.execute(\"USE google_play_store\")\n",
    "for index in range(len(dates)):\n",
    "    id = dates[index][0]\n",
    "    year = \"20\" + str(dates[index][1].year)\n",
    "    newDates.append((id,datetime.datetime(int(year),dates[index][1].month,dates[index][1].day)))\n",
    "for id, date in newDates:\n",
    "    cursor.execute(\"UPDATE apps set last_updated=%s WHERE id=%s\", (date,id))\n",
    "    db.commit()"
   ]
  }
 ],
 "metadata": {
  "kernelspec": {
   "display_name": "Python 3.9.13 64-bit",
   "language": "python",
   "name": "python3"
  },
  "language_info": {
   "codemirror_mode": {
    "name": "ipython",
    "version": 3
   },
   "file_extension": ".py",
   "mimetype": "text/x-python",
   "name": "python",
   "nbconvert_exporter": "python",
   "pygments_lexer": "ipython3",
   "version": "3.9.13"
  },
  "orig_nbformat": 4,
  "vscode": {
   "interpreter": {
    "hash": "9fc81cac47011ce6d6e99e238c151fa3d70066be2a511dcb4aa330e163cb24af"
   }
  }
 },
 "nbformat": 4,
 "nbformat_minor": 2
}
